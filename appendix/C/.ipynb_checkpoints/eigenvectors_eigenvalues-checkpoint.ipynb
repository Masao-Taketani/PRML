{
 "cells": [
  {
   "cell_type": "code",
   "execution_count": 1,
   "metadata": {},
   "outputs": [
    {
     "data": {
      "text/plain": [
       "(array([3., 2.]), array([[ 1.        , -0.70710678],\n",
       "        [ 0.        ,  0.70710678]]))"
      ]
     },
     "execution_count": 1,
     "metadata": {},
     "output_type": "execute_result"
    }
   ],
   "source": [
    "import numpy as np\n",
    "#numpyの線形代数用ライブラリをLAとして定義\n",
    "import numpy.linalg as LA\n",
    "#例として以下の行列Aに対して固有値、固有ベクトルを求める\n",
    "A = np.array([[3, 1], [0, 2]])\n",
    "LA.eig(A)"
   ]
  },
  {
   "cell_type": "markdown",
   "metadata": {},
   "source": [
    "<h1>Result</h1>\n",
    "<p>When eigenvalue is $λ_1=3, % \"boldsymbol\"で太字にしている$\n",
    "        eigenvactor: $\\boldsymbol{v_1} =\n",
    "        % ベクトルや行列は\"left[\"と\"right]\"でベクトルや行列の括弧を作る\n",
    "        % 括弧内に\"array\"環境を展開する\n",
    "        % {c|cc}の形で中央揃え、縦線、中央揃え*2の並びに出来る\n",
    "        \\left[\\begin{array}{c}\n",
    "            1 \\\\\n",
    "            0 \\\\\n",
    "        \\end{array}\\right] \\quad$</p>\n",
    "<p>When eigenvalue is $λ_2=2, % \"boldsymbol\"で太字にしている$\n",
    "        eigenvactor: $\\boldsymbol{v_1} =\n",
    "        % ベクトルや行列は\"left[\"と\"right]\"でベクトルや行列の括弧を作る\n",
    "        % 括弧内に\"array\"環境を展開する\n",
    "        % {c|cc}の形で中央揃え、縦線、中央揃え*2の並びに出来る\n",
    "        \\left[\\begin{array}{c}\n",
    "            -0.70710678 \\\\\n",
    "            0.70710678 \\\\\n",
    "        \\end{array}\\right] \\quad$</p>\n",
    "\n",
    "<h1>結果</h1>\n",
    "<p>固有値 $λ_1=3$のとき $% \"boldsymbol\"で太字にしている\n",
    "        固有ベクトル: \\boldsymbol{v_1} =\n",
    "        % ベクトルや行列は\"left[\"と\"right]\"でベクトルや行列の括弧を作る\n",
    "        % 括弧内に\"array\"環境を展開する\n",
    "        % {c|cc}の形で中央揃え、縦線、中央揃え*2の並びに出来る\n",
    "        \\left[\\begin{array}{c}\n",
    "            1 \\\\\n",
    "            0 \\\\\n",
    "        \\end{array}\\right] \\quad$</p>\n",
    "固有値 $λ_1=2$のとき $% \"boldsymbol\"で太字にしている\n",
    "        固有ベクトル: \\boldsymbol{v_2} =\n",
    "        % ベクトルや行列は\"left[\"と\"right]\"でベクトルや行列の括弧を作る\n",
    "        % 括弧内に\"array\"環境を展開する\n",
    "        % {c|cc}の形で中央揃え、縦線、中央揃え*2の並びに出来る\n",
    "        \\left[\\begin{array}{c}\n",
    "            -0.70710678 \\\\\n",
    "            0.70710678 \\\\\n",
    "        \\end{array}\\right] \\quad\n",
    "$"
   ]
  },
  {
   "cell_type": "code",
   "execution_count": null,
   "metadata": {},
   "outputs": [],
   "source": []
  }
 ],
 "metadata": {
  "kernelspec": {
   "display_name": "Python 3",
   "language": "python",
   "name": "python3"
  },
  "language_info": {
   "codemirror_mode": {
    "name": "ipython",
    "version": 3
   },
   "file_extension": ".py",
   "mimetype": "text/x-python",
   "name": "python",
   "nbconvert_exporter": "python",
   "pygments_lexer": "ipython3",
   "version": "3.6.4"
  }
 },
 "nbformat": 4,
 "nbformat_minor": 2
}
