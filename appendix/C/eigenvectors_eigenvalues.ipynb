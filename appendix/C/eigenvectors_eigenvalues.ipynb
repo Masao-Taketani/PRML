{
 "cells": [
  {
   "cell_type": "code",
   "execution_count": 2,
   "metadata": {},
   "outputs": [
    {
     "name": "stdout",
     "output_type": "stream",
     "text": [
      "(array([3., 2.]), array([[ 1.        , -0.70710678],\n",
      "       [ 0.        ,  0.70710678]]))\n"
     ]
    }
   ],
   "source": [
    "import numpy as np\n",
    "#numpyの線形代数用ライブラリをLAとして定義\n",
    "import numpy.linalg as LA\n",
    "#例として以下の行列Aに対して固有値、固有ベクトルを求める\n",
    "A = np.array([[3, 1], [0, 2]])\n",
    "print(LA.eig(A))"
   ]
  },
  {
   "cell_type": "markdown",
   "metadata": {},
   "source": [
    "<h1>Result</h1>\n",
    "<p>When eigenvalue is $\\lambda_1=3,$\n",
    "        eigenvactor: $\\boldsymbol{v_1} =\n",
    "        \\left[\\begin{array}{c}\n",
    "            1 \\\\\n",
    "            0 \\\\\n",
    "        \\end{array}\\right] \\quad$</p>\n",
    "<p>When eigenvalue is $\\lambda_2=2,$\n",
    "        eigenvactor: $\\boldsymbol{v_1} =\n",
    "        \\left[\\begin{array}{c}\n",
    "            -0.70710678 \\\\\n",
    "            0.70710678 \\\\\n",
    "        \\end{array}\\right] \\quad$</p>\n",
    "\n",
    "<h1>結果</h1>\n",
    "<p>固有値 $\\lambda_1=3$のとき、固有ベクトル: \n",
    "        $\\boldsymbol{v_1} =\n",
    "        \\left[\\begin{array}{c}\n",
    "            1 \\\\\n",
    "            0 \\\\\n",
    "        \\end{array}\\right] \\quad$</p>\n",
    "固有値 $\\lambda_1=2$のとき、固有ベクトル:\n",
    "        $\\boldsymbol{v_2} =\n",
    "        \\left[\\begin{array}{c}\n",
    "            -0.70710678 \\\\\n",
    "            0.70710678 \\\\\n",
    "        \\end{array}\\right] \\quad\n",
    "$"
   ]
  },
  {
   "cell_type": "code",
   "execution_count": 3,
   "metadata": {},
   "outputs": [
    {
     "data": {
      "text/plain": [
       "(array([-0.37228132,  5.37228132]), array([[-0.82456484, -0.41597356],\n",
       "        [ 0.56576746, -0.90937671]]))"
      ]
     },
     "execution_count": 3,
     "metadata": {},
     "output_type": "execute_result"
    }
   ],
   "source": [
    "#教科書に記載されている行列の例\n",
    "A = np.array([[1, 2], [3, 4]])\n",
    "LA.eig(A)"
   ]
  },
  {
   "cell_type": "markdown",
   "metadata": {},
   "source": [
    "<h1>Result</h1>\n",
    "As shown in the textbook, the eigenvalues of \n",
    "        $\\boldsymbol{A} =\n",
    "        \\begin{equation*}\n",
    "        \\begin{bmatrix}\n",
    "            1 & 2 \\\\\n",
    "            3 & 4 \\\\\n",
    "        \\end{bmatrix}\n",
    "        \\end{equation*}$\n",
    "        are $\\lambda_1\\approx5.37,$\n",
    "        and $\\lambda_2\\approx-0.37$.\n",
    "\n",
    "<h1>結果</h1>\n",
    "本に記載の通り, 行列 \n",
    "        $\\boldsymbol{A} =\n",
    "        \\begin{equation*}\n",
    "        \\begin{bmatrix}\n",
    "            1 & 2 \\\\\n",
    "            3 & 4 \\\\\n",
    "        \\end{bmatrix}\n",
    "        \\end{equation*}$\n",
    "        に対する固有値は $\\lambda_1\\approx5.37,$\n",
    "        $\\lambda_2\\approx-0.37$である。"
   ]
  },
  {
   "cell_type": "code",
   "execution_count": null,
   "metadata": {},
   "outputs": [],
   "source": []
  }
 ],
 "metadata": {
  "kernelspec": {
   "display_name": "Python 3",
   "language": "python",
   "name": "python3"
  },
  "language_info": {
   "codemirror_mode": {
    "name": "ipython",
    "version": 3
   },
   "file_extension": ".py",
   "mimetype": "text/x-python",
   "name": "python",
   "nbconvert_exporter": "python",
   "pygments_lexer": "ipython3",
   "version": "3.6.4"
  }
 },
 "nbformat": 4,
 "nbformat_minor": 2
}
