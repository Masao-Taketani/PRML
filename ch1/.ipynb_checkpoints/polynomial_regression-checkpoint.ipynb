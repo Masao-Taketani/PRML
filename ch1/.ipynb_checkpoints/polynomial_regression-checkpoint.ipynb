{
 "cells": [
  {
   "cell_type": "code",
   "execution_count": 517,
   "metadata": {},
   "outputs": [
    {
     "name": "stdout",
     "output_type": "stream",
     "text": [
      "xの値: [0.         1.57079633 3.14159265 4.71238898 6.28318531]\n",
      "yの値: [ 0.0000000e+00  1.0000000e+00  1.2246468e-16 -1.0000000e+00\n",
      " -2.4492936e-16]\n"
     ]
    },
    {
     "data": {
      "text/plain": [
       "[<matplotlib.lines.Line2D at 0x1c8c7fac0b8>]"
      ]
     },
     "execution_count": 517,
     "metadata": {},
     "output_type": "execute_result"
    },
    {
     "data": {
      "image/png": "[encoded data removed]",
      "text/plain": [
       "<matplotlib.figure.Figure at 0x1c8c7f96c88>"
      ]
     },
     "metadata": {},
     "output_type": "display_data"
    }
   ],
   "source": [
    "%matplotlib inline\n",
    "import matplotlib.pyplot as plt\n",
    "\n",
    "import numpy as np\n",
    "import pandas as pd\n",
    "\n",
    "#サンプルデータ数の指定\n",
    "n = 5\n",
    "#xを0から2πまでの範囲でn分割を行う\n",
    "x = np.linspace(0, 2*np.pi, n)\n",
    "print('xの値:', x)\n",
    "#xをsin関数に入れて出力値を変数yとする\n",
    "y = np.sin(x)\n",
    "print('yの値:', y)\n",
    "sin = pd.Series(y, index=x)\n",
    "#x,yのプロット\n",
    "plt.plot(x, y, 'bo') "
   ]
  },
  {
   "cell_type": "code",
   "execution_count": 518,
   "metadata": {},
   "outputs": [
    {
     "data": {
      "text/plain": [
       "[<matplotlib.lines.Line2D at 0x1c8c7f0f1d0>]"
      ]
     },
     "execution_count": 518,
     "metadata": {},
     "output_type": "execute_result"
    },
    {
     "data": {
      "image/png": "[encoded data removed]",
      "text/plain": [
       "<matplotlib.figure.Figure at 0x1c8c7fa3320>"
      ]
     },
     "metadata": {},
     "output_type": "display_data"
    }
   ],
   "source": [
    "#ノイズありのデータを生成\n",
    "noise = sin + 0.3 * np.random.randn(n)\n",
    "\n",
    "#オリジナルの点にノイズを加えた点のプロット\n",
    "plt.plot(x, noise, 'bo') "
   ]
  },
  {
   "cell_type": "code",
   "execution_count": 519,
   "metadata": {},
   "outputs": [
    {
     "data": {
      "text/plain": [
       "<matplotlib.axes._subplots.AxesSubplot at 0x1c8c7f040f0>"
      ]
     },
     "execution_count": 519,
     "metadata": {},
     "output_type": "execute_result"
    },
    {
     "data": {
      "image/png": "[encoded data removed]",
      "text/plain": [
       "<matplotlib.figure.Figure at 0x1c8c7ee1f98>"
      ]
     },
     "metadata": {},
     "output_type": "display_data"
    }
   ],
   "source": [
    "##ノイズなしの点とノイズ有りの点の比較\n",
    "sdf = pd.DataFrame({'sin wave': sin, 'noise wave': noise})\n",
    "sdf.plot(color=('r','b'))"
   ]
  },
  {
   "cell_type": "code",
   "execution_count": 520,
   "metadata": {},
   "outputs": [
    {
     "name": "stdout",
     "output_type": "stream",
     "text": [
      "x_train: [3.14159265 0.         1.57079633 4.71238898 6.28318531]\n",
      "y_train [ 1.2246468e-16  0.0000000e+00  1.0000000e+00 -1.0000000e+00\n",
      " -2.4492936e-16]\n"
     ]
    }
   ],
   "source": [
    "#データセットを学習用とテスト用に分割\n",
    "#※今回は全データを学習データに使うため、必要ないが、これはよく使う関数なめ記述\n",
    "#text_size=0.0を好きな割合に変えることにより、その割合で学習データとテストデータに分割できる\n",
    "from sklearn.model_selection import train_test_split\n",
    "(x_train, x_test, y_train, y_test) = train_test_split(x, y, test_size=0.0, random_state=0)\n",
    "print('x_train:', x_train)\n",
    "print('y_train', y_train)"
   ]
  },
  {
   "cell_type": "code",
   "execution_count": 521,
   "metadata": {},
   "outputs": [
    {
     "name": "stdout",
     "output_type": "stream",
     "text": [
      "[0.92885661]\n",
      "[[1.]\n",
      " [1.]\n",
      " [1.]\n",
      " [1.]\n",
      " [1.]]\n"
     ]
    }
   ],
   "source": [
    "###多項式回帰の実装(M = 0)\n",
    "#パラメータの初期化\n",
    "w = np.random.rand(1)\n",
    "print(w)\n",
    "\n",
    "#データの標準化を行うための準備\n",
    "mu = x_train.mean()\n",
    "sigma = x_train.std()\n",
    "#標準化を行う関数\n",
    "def standardize(x):\n",
    "    return (x - mu) / sigma\n",
    "\n",
    "#データの標準化\n",
    "z_train = standardize(x_train)\n",
    "\n",
    "#学習データを行列に変換する関数(定数項は1に設定)\n",
    "def to_matrix(x):\n",
    "    return np.vstack([np.ones(x.shape[0])]).T\n",
    "\n",
    "#学習データを行列に変換\n",
    "X = to_matrix(z_train)\n",
    "#変換結果の確認\n",
    "print(X)\n",
    "\n",
    "#予測関数\n",
    "def f(x):\n",
    "    return np.dot(x, w)\n",
    "\n",
    "#誤差関数(損失関数)\n",
    "def MSE(x, y):\n",
    "    return (1 / x.shape[0]) * np.sum((y - f(x)) ** 2)"
   ]
  },
  {
   "cell_type": "code",
   "execution_count": 522,
   "metadata": {},
   "outputs": [
    {
     "name": "stdout",
     "output_type": "stream",
     "text": [
      "1回目の誤差:1.262774604233385\n",
      "100回目の誤差:0.716601889410139\n",
      "200回目の誤差:0.5161795396923335\n",
      "300回目の誤差:0.44263299081464746\n",
      "400回目の誤差:0.41564450944301473\n",
      "500回目の誤差:0.40574087510718315\n",
      "600回目の誤差:0.4021066590241339\n",
      "700回目の誤差:0.40077305500661586\n",
      "800回目の誤差:0.4002836785813023\n",
      "900回目の誤差:0.40010409807426506\n",
      "1000回目の誤差:0.4000381996025782\n",
      "1100回目の誤差:0.4000140176429529\n",
      "1200回目の誤差:0.4000051438837237\n",
      "1300回目の誤差:0.4000018875883665\n",
      "1400回目の誤差:0.40000069266531535\n",
      "1500回目の誤差:0.40000025417895524\n",
      "1600回目の誤差:0.40000009327295577\n",
      "1700回目の誤差:0.4000000342272406\n",
      "1800回目の誤差:0.4000000125599537\n",
      "1900回目の誤差:0.4000000046089732\n",
      "2000回目の誤差:0.4000000016912988\n"
     ]
    }
   ],
   "source": [
    "#学種率を10^(-3)に設定\n",
    "lr = 1e-3\n",
    "#カウントを0に設定\n",
    "count = 0\n",
    "#最初の誤差を変数errorに代入\n",
    "error = MSE(X, y_train)\n",
    "print('1回目の誤差:' + str(error))\n",
    "\n",
    "#countが2000になるまで学習を行う\n",
    "while count < 2000:\n",
    "    #パラメータの更新式\n",
    "    w = w - lr * np.dot(f(X) - y_train, X)\n",
    "    #パラメータを更新した後の誤差\n",
    "    current_error = MSE(X, y_train)\n",
    "    #前の誤差とパラメータを更新した後の誤差の差\n",
    "    diff = error - current_error\n",
    "    #誤差をパラメータ更新後の誤差に更新\n",
    "    error = current_error\n",
    "    count += 1\n",
    "    \n",
    "    if count % 100 == 0:\n",
    "        #ログ\n",
    "        log = '{}回目の誤差:{}'\n",
    "        print(log.format(count, current_error))"
   ]
  },
  {
   "cell_type": "code",
   "execution_count": 523,
   "metadata": {},
   "outputs": [
    {
     "name": "stdout",
     "output_type": "stream",
     "text": [
      "最終誤差: 0.4000000016912988\n"
     ]
    }
   ],
   "source": [
    "#M=0のときの最終誤差\n",
    "print('最終誤差:', error)"
   ]
  },
  {
   "cell_type": "code",
   "execution_count": 524,
   "metadata": {},
   "outputs": [
    {
     "data": {
      "image/png": "[encoded data removed]",
      "text/plain": [
       "<matplotlib.figure.Figure at 0x1c8c7c9e978>"
      ]
     },
     "metadata": {},
     "output_type": "display_data"
    }
   ],
   "source": [
    "#M=0のときのグラフをプロット\n",
    "x = np.linspace(-3, 3, 100)\n",
    "plt.plot(z_train, y_train, 'o')\n",
    "plt.plot(x, f(to_matrix(x)))\n",
    "plt.ylim(-1.5, 1.5)\n",
    "plt.show()"
   ]
  },
  {
   "cell_type": "code",
   "execution_count": 525,
   "metadata": {},
   "outputs": [],
   "source": [
    "###多項式回帰の実装(M = 1)\n",
    "#パラメータの初期化\n",
    "w = np.random.rand(2)\n",
    "\n",
    "#標準化\n",
    "z_train = standardize(x_train)\n",
    "\n",
    "#学習データの行列を作成(多項式のMが2のとき)\n",
    "def to_matrix(x):\n",
    "    return np.vstack([np.ones(x.shape[0]), x]).T\n",
    "\n",
    "X = to_matrix(z_train)\n",
    "\n",
    "#予測関数\n",
    "def f(x):\n",
    "    return np.dot(x, w)\n",
    "\n",
    "#誤差関数(損失関数)\n",
    "def MSE(x, y):\n",
    "    return (1 / x.shape[0]) * np.sum((y - f(x)) ** 2)"
   ]
  },
  {
   "cell_type": "code",
   "execution_count": 526,
   "metadata": {},
   "outputs": [
    {
     "name": "stdout",
     "output_type": "stream",
     "text": [
      "1回目の誤差:2.353859432064968\n",
      "100回目の誤差:1.0663406268877802\n",
      "200回目の誤差:0.5938755307084819\n",
      "300回目の誤差:0.4205007681728825\n",
      "400回目の誤差:0.3568795429705275\n",
      "500回目の誤差:0.3335332367547214\n",
      "600回目の誤差:0.324966127080417\n",
      "700回目の誤差:0.3218223591758451\n",
      "800回目の誤差:0.3206687289535708\n",
      "900回目の誤差:0.3202453953201276\n",
      "1000回目の誤差:0.3200900497321358\n",
      "1100回目の誤差:0.3200330444535516\n",
      "1200回目の誤差:0.3200121259206954\n",
      "1300回目の誤差:0.3200044497014448\n",
      "1400回目の誤差:0.3200016328527495\n",
      "1500回目の誤差:0.3200005991880881\n",
      "1600回目の誤差:0.32000021987675564\n",
      "1700回目の誤差:0.32000008068549524\n",
      "1800回目の誤差:0.3200000296081736\n",
      "1900回目の誤差:0.32000001086495083\n",
      "2000回目の誤差:0.32000000398697864\n"
     ]
    }
   ],
   "source": [
    "count = 0\n",
    "error = MSE(X, y_train)\n",
    "print('1回目の誤差:' + str(error))\n",
    "\n",
    "while count < 2000:\n",
    "    w = w - lr * np.dot(f(X) - y_train, X)\n",
    "    current_error = MSE(X, y_train)\n",
    "    diff = error - current_error\n",
    "    error = current_error\n",
    "    count += 1\n",
    "    \n",
    "    if count % 100 == 0:\n",
    "        #ログ\n",
    "        log = '{}回目の誤差:{}'\n",
    "        print(log.format(count, current_error))"
   ]
  },
  {
   "cell_type": "code",
   "execution_count": 527,
   "metadata": {},
   "outputs": [
    {
     "name": "stdout",
     "output_type": "stream",
     "text": [
      "最終誤差: 0.32000000398697864\n"
     ]
    }
   ],
   "source": [
    "#M=1のときの最終誤差\n",
    "print('最終誤差:', error)"
   ]
  },
  {
   "cell_type": "code",
   "execution_count": 528,
   "metadata": {},
   "outputs": [
    {
     "data": {
      "image/png": "[encoded data removed]",
      "text/plain": [
       "<matplotlib.figure.Figure at 0x1c8c7bd6f60>"
      ]
     },
     "metadata": {},
     "output_type": "display_data"
    }
   ],
   "source": [
    "#M=1のときのグラフをプロット\n",
    "x = np.linspace(-3, 3, 100)\n",
    "plt.plot(z_train, y_train, 'o')\n",
    "plt.plot(x, f(to_matrix(x)))\n",
    "plt.ylim(-1.5, 1.5)\n",
    "plt.show()"
   ]
  },
  {
   "cell_type": "code",
   "execution_count": 529,
   "metadata": {},
   "outputs": [],
   "source": [
    "###多項式回帰の実装(M = 3)\n",
    "#パラメータの初期化\n",
    "w = np.random.rand(4)\n",
    "\n",
    "train_z = standardize(x_train)\n",
    "\n",
    "#学習データの行列を作成(多項式のMが2のとき)\n",
    "def to_matrix(x):\n",
    "    return np.vstack([np.ones(x.shape[0]), x, x ** 2, x ** 3]).T\n",
    "\n",
    "X = to_matrix(z_train)\n",
    "\n",
    "#予測関数\n",
    "def f(x):\n",
    "    return np.dot(x, w)\n",
    "\n",
    "#誤差関数(損失関数)\n",
    "def MSE(x, y):\n",
    "    return (1 / x.shape[0]) * np.sum((y - f(x)) ** 2)"
   ]
  },
  {
   "cell_type": "code",
   "execution_count": 530,
   "metadata": {},
   "outputs": [
    {
     "name": "stdout",
     "output_type": "stream",
     "text": [
      "1回目の誤差:3.5093918005175917\n",
      "100回目の誤差:0.6627643250100721\n",
      "200回目の誤差:0.5616137399007796\n",
      "300回目の誤差:0.512594490421638\n",
      "400回目の誤差:0.4691255640300518\n",
      "500回目の誤差:0.4295572520830773\n",
      "600回目の誤差:0.39344783362268293\n",
      "700回目の誤差:0.3604617773787408\n",
      "800回目の誤差:0.3303067918538256\n",
      "900回目の誤差:0.30272352607482195\n",
      "1000回目の誤差:0.27748039588839885\n",
      "1100回目の誤差:0.25436967774898794\n",
      "1200回目の誤差:0.23320435081506236\n",
      "1300回目の誤差:0.21381550037068503\n",
      "1400回目の誤差:0.1960501588799957\n",
      "1500回目の誤差:0.1797694921423183\n",
      "1600回目の誤差:0.16484726000637706\n",
      "1700回目の誤差:0.1511684975410066\n",
      "1800回目の誤差:0.13862837495356783\n",
      "1900回目の誤差:0.12713120391745827\n",
      "2000回目の誤差:0.1165895650717268\n"
     ]
    }
   ],
   "source": [
    "count = 0\n",
    "error = MSE(X, y_train)\n",
    "print('1回目の誤差:' + str(error))\n",
    "\n",
    "while count < 2000:\n",
    "    w = w - lr * np.dot(f(X) - y_train, X)\n",
    "    current_error = MSE(X, y_train)\n",
    "    diff = np.abs(error - current_error)\n",
    "    error = current_error\n",
    "    count += 1\n",
    "    \n",
    "    if count % 100 == 0:\n",
    "        #ログ\n",
    "        log = '{}回目の誤差:{}'\n",
    "        print(log.format(count, current_error))"
   ]
  },
  {
   "cell_type": "code",
   "execution_count": 531,
   "metadata": {},
   "outputs": [
    {
     "name": "stdout",
     "output_type": "stream",
     "text": [
      "最終誤差: 0.1165895650717268\n"
     ]
    }
   ],
   "source": [
    "#M=3のときの最終誤差\n",
    "print('最終誤差:', error)"
   ]
  },
  {
   "cell_type": "code",
   "execution_count": 532,
   "metadata": {},
   "outputs": [
    {
     "data": {
      "image/png": "[encoded data removed]",
      "text/plain": [
       "<matplotlib.figure.Figure at 0x1c8c637a550>"
      ]
     },
     "metadata": {},
     "output_type": "display_data"
    }
   ],
   "source": [
    "#M=3のときのグラフをプロット\n",
    "x = np.linspace(-3, 3, 100)\n",
    "plt.plot(z_train, y_train, 'o')\n",
    "plt.plot(x, f(to_matrix(x)))\n",
    "plt.ylim(-1.5, 1.5)\n",
    "plt.show()"
   ]
  },
  {
   "cell_type": "code",
   "execution_count": 533,
   "metadata": {},
   "outputs": [],
   "source": [
    "###多項式回帰の実装(M = 9)\n",
    "#パラメータの初期化\n",
    "w = np.random.rand(10)\n",
    "\n",
    "train_z = standardize(x_train)\n",
    "\n",
    "#学習データの行列を作成(多項式のMが2のとき)\n",
    "def to_matrix(x):\n",
    "    return np.vstack([np.ones(x.shape[0]), x, x ** 2, x ** 3, x**4, x ** 5, x ** 6, x** 7, x ** 8, x**9]).T\n",
    "\n",
    "X = to_matrix(z_train)\n",
    "\n",
    "#予測関数\n",
    "def f(x):\n",
    "    return np.dot(x, w)\n",
    "\n",
    "#誤差関数(損失関数)\n",
    "def MSE(x, y):\n",
    "    return (1 / x.shape[0]) * np.sum((y - f(x)) ** 2)"
   ]
  },
  {
   "cell_type": "code",
   "execution_count": 534,
   "metadata": {},
   "outputs": [
    {
     "name": "stdout",
     "output_type": "stream",
     "text": [
      "1回目の誤差:231.87997464011178\n",
      "100回目の誤差:1.400061499713676\n",
      "200回目の誤差:1.0160896513948425\n",
      "300回目の誤差:0.7528905219566595\n",
      "400回目の誤差:0.5663488589746626\n",
      "500回目の誤差:0.43058157108752965\n",
      "600回目の誤差:0.32977228622726956\n",
      "700回目の誤差:0.2538287007046208\n",
      "800回目の誤差:0.1960327612070613\n",
      "900回目の誤差:0.15173906443375482\n",
      "1000回目の誤差:0.11763174567984219\n",
      "1100回目の誤差:0.09128432419191736\n",
      "1200回目の誤差:0.07088791758826381\n",
      "1300回目の誤差:0.05507598153190122\n",
      "1400回目の誤差:0.04280650112010121\n",
      "1500回目の誤差:0.0332798444857151\n",
      "1600回目の誤差:0.025879733614268527\n",
      "1700回目の誤差:0.020129828717681243\n",
      "1800回目の誤差:0.015661243734131518\n",
      "1900回目の誤差:0.012187941873664565\n",
      "2000回目の誤差:0.009487940787823926\n"
     ]
    }
   ],
   "source": [
    "count = 0\n",
    "error = MSE(X, y_train)\n",
    "print('1回目の誤差:' + str(error))\n",
    "\n",
    "while count < 2000:\n",
    "    w = w - lr * np.dot(f(X) - y_train, X)\n",
    "    current_error = MSE(X, y_train)\n",
    "    diff = np.abs(error - current_error)\n",
    "    error = current_error\n",
    "    count += 1\n",
    "    \n",
    "    if count % 100 == 0:\n",
    "        #ログ\n",
    "        log = '{}回目の誤差:{}'\n",
    "        print(log.format(count, current_error))"
   ]
  },
  {
   "cell_type": "code",
   "execution_count": 535,
   "metadata": {},
   "outputs": [
    {
     "name": "stdout",
     "output_type": "stream",
     "text": [
      "最終誤差: 0.009487940787823926\n"
     ]
    }
   ],
   "source": [
    "#M=9のときの最終誤差\n",
    "print('最終誤差:', error)"
   ]
  },
  {
   "cell_type": "code",
   "execution_count": 536,
   "metadata": {},
   "outputs": [
    {
     "data": {
      "image/png": "[encoded data removed]",
      "text/plain": [
       "<matplotlib.figure.Figure at 0x1c8c7ba7a20>"
      ]
     },
     "metadata": {},
     "output_type": "display_data"
    }
   ],
   "source": [
    "#M=9のときのグラフをプロット\n",
    "x = np.linspace(-3, 3, 100)\n",
    "plt.plot(z_train, y_train, 'o')\n",
    "plt.plot(x, f(to_matrix(x)))\n",
    "plt.ylim(-1.5, 1.5)\n",
    "plt.show()"
   ]
  },
  {
   "cell_type": "code",
   "execution_count": null,
   "metadata": {},
   "outputs": [],
   "source": []
  }
 ],
 "metadata": {
  "kernelspec": {
   "display_name": "Python 3",
   "language": "python",
   "name": "python3"
  },
  "language_info": {
   "codemirror_mode": {
    "name": "ipython",
    "version": 3
   },
   "file_extension": ".py",
   "mimetype": "text/x-python",
   "name": "python",
   "nbconvert_exporter": "python",
   "pygments_lexer": "ipython3",
   "version": "3.6.4"
  }
 },
 "nbformat": 4,
 "nbformat_minor": 2
}
